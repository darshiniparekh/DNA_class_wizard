{
 "cells": [
  {
   "cell_type": "markdown",
   "id": "c33f7d61-3af1-45c4-b733-ab23210f5138",
   "metadata": {},
   "source": [
    "To the protein class, add a method called mol_weight, which returns the total molecular\n",
    "weight of the protein sequence. The variable aa_mol_weights in the “helpful variables”\n",
    "file should be helpful. This is a python dictionary of molecular weights for each amino\n",
    "acid.\n"
   ]
  },
  {
   "cell_type": "code",
   "execution_count": 38,
   "id": "a87dfe8e",
   "metadata": {},
   "outputs": [],
   "source": [
    "aa_mol_weights = {'A': 89.09, 'C': 121.15, 'D': 133.1, 'E': 147.13, 'F': 165.19,\n",
    "                  'G': 75.07, 'H': 155.16, 'I': 131.17, 'K': 146.19, 'L': 131.17,\n",
    "                  'M': 149.21, 'N': 132.12, 'P': 115.13, 'Q': 146.15, 'R': 174.2,\n",
    "                  'S': 105.09, 'T': 119.12, 'V': 117.15, 'W': 204.23, 'X': 0, 'Y': 181.19}\n",
    "\n",
    "standard_code = {\n",
    "     \"UUU\": \"F\", \"UUC\": \"F\", \"UUA\": \"L\", \"UUG\": \"L\", \"UCU\": \"S\",\n",
    "     \"UCC\": \"S\", \"UCA\": \"S\", \"UCG\": \"S\", \"UAU\": \"Y\", \"UAC\": \"Y\",\n",
    "     \"UAA\": \"*\", \"UAG\": \"*\", \"UGA\": \"*\", \"UGU\": \"C\", \"UGC\": \"C\",\n",
    "     \"UGG\": \"W\", \"CUU\": \"L\", \"CUC\": \"L\", \"CUA\": \"L\", \"CUG\": \"L\",\n",
    "     \"CCU\": \"P\", \"CCC\": \"P\", \"CCA\": \"P\", \"CCG\": \"P\", \"CAU\": \"H\",\n",
    "     \"CAC\": \"H\", \"CAA\": \"Q\", \"CAG\": \"Q\", \"CGU\": \"R\", \"CGC\": \"R\",\n",
    "     \"CGA\": \"R\", \"CGG\": \"R\", \"AUU\": \"I\", \"AUC\": \"I\", \"AUA\": \"I\",\n",
    "     \"AUG\": \"M\", \"ACU\": \"T\", \"ACC\": \"T\", \"ACA\": \"T\", \"ACG\": \"T\",\n",
    "     \"AAU\": \"N\", \"AAC\": \"N\", \"AAA\": \"K\", \"AAG\": \"K\", \"AGU\": \"S\",\n",
    "     \"AGC\": \"S\", \"AGA\": \"R\", \"AGG\": \"R\", \"GUU\": \"V\", \"GUC\": \"V\",\n",
    "     \"GUA\": \"V\", \"GUG\": \"V\", \"GCU\": \"A\", \"GCC\": \"A\", \"GCA\": \"A\",\n",
    "     \"GCG\": \"A\", \"GAU\": \"D\", \"GAC\": \"D\", \"GAA\": \"E\", \"GAG\": \"E\",\n",
    "     \"GGU\": \"G\", \"GGC\": \"G\", \"GGA\": \"G\", \"GGG\": \"G\"}\n"
   ]
  },
  {
   "cell_type": "code",
   "execution_count": 39,
   "id": "364e9930",
   "metadata": {},
   "outputs": [],
   "source": [
    "class seq:\n",
    "    def __init__(self, name, organism, sequence, type):\n",
    "        self.name = name\n",
    "        self.organism = organism\n",
    "        self.sequence = sequence\n",
    "        self.type = type\n",
    "\n",
    "    def info(self):\n",
    "        print(f\"Name: {self.name}\")\n",
    "        print(f\"Type: {self.type}\")\n",
    "        print(f\"Organism: {self.organism}\")\n",
    "        print(f\"Sequence: {self.sequence}\")\n",
    "\n",
    "    def length(self):\n",
    "        return len(self.sequence)\n",
    "\n",
    "    def fasta_out(self):\n",
    "        with open(f\"{self.name}.fa\", \"w\") as f:\n",
    "            f.write(\">\" + self.name + \"_\" + self.organism + \"_\" + self.type + \"\\n\" + self.sequence)"
   ]
  },
  {
   "cell_type": "code",
   "execution_count": 40,
   "id": "7f235639-4e6e-45ac-83bd-c9d22dd38de0",
   "metadata": {},
   "outputs": [],
   "source": [
    "# call the class seq\n",
    "\n",
    "    # Call instance attributes\n",
    "\n",
    "     \n",
    "    # define the info function \n",
    "\n",
    "    \n",
    "    # define the length function\n",
    "\n",
    "    \n",
    "    #define the fasta_out function. \n",
    "\n",
    "    \n",
    "    # write to a file using the sequence name as part of the file name\n",
    "    # I have written most of the code for the fasta_out function,\n",
    "    # but you need to add something. What is missing?\n",
    "    # this url may be helpful https://www.w3schools.com/python/python_file_write.asp \n",
    "    \n",
    "my_seq = seq(name =\"RAS_G12D\", organism =\"human\", sequence =\"ATCGAAATC\", type =\"DNA\")\n",
    "my_seq.length()\n",
    "my_seq.fasta_out()\n",
    "       "
   ]
  },
  {
   "cell_type": "code",
   "execution_count": null,
   "id": "c1a189e8",
   "metadata": {},
   "outputs": [],
   "source": []
  },
  {
   "cell_type": "markdown",
   "id": "587bd257-f738-49b0-a2d6-0d80cbe50c16",
   "metadata": {},
   "source": [
    "# B. Test your seq class code using the following instance of seq. \n",
    "## The info function should print \"test_DNA, Human, DNA, AGGCTAT\"\n",
    "## the length function should print \"7\". \n",
    "## Go open the fasta file that is made by fasta out. It should be named test_DNA.fa and the contents should look like this:\n",
    "## >test_DNA_Human_DNA\n",
    "## AGGCTAT"
   ]
  },
  {
   "cell_type": "code",
   "execution_count": 41,
   "id": "93b3d472-6f84-418d-9691-22e17b88efb2",
   "metadata": {},
   "outputs": [
    {
     "name": "stdout",
     "output_type": "stream",
     "text": [
      "Name: test_DNA\n",
      "Type: DNA\n",
      "Organism: Human\n",
      "Sequence: AGGCTAT\n",
      ">test_DNA_Human_DNA\n",
      "AGGCTAT\n"
     ]
    }
   ],
   "source": [
    "short_seq_test = seq(name = \"test_DNA\", organism = 'Human',\n",
    "                                  sequence = 'AGGCTAT', type = 'DNA')\n",
    "short_seq_test.info()\n",
    "short_seq_test.length()\n",
    "short_seq_test.fasta_out()\n",
    "with open(\"test_DNA.fa\", \"r\") as f:\n",
    "    print(f.read())"
   ]
  },
  {
   "cell_type": "markdown",
   "id": "5bda4d8b-2034-4877-8e24-c92bcbc9e06c",
   "metadata": {},
   "source": [
    "# C. Using super(), make a new child class of seq called protein\n",
    "## This should have a new attribute called size (For instances of protein, size values will be in kDa, like '52')\n",
    "## Overwrite the parent class seq function fasta_out to include the protein size in the first line of the fasta file\n"
   ]
  },
  {
   "cell_type": "code",
   "execution_count": 42,
   "id": "7034e712-0883-4520-b73e-cbd940e7c5b1",
   "metadata": {},
   "outputs": [],
   "source": [
    "# Write the new protein child class here\n",
    "class protein(seq):\n",
    "    def __init__(self, name, organism, sequence, type, size):\n",
    "        super().__init__(name, organism, sequence, type)\n",
    "        self.size = size\n",
    "    def fasta_out(self):\n",
    "        with open(f\"{self.name}.fa\", \"w\") as f:\n",
    "            f.write(\">\" + self.name + \"_\" + self.organism + \"_\" + self.type + \"_\" + str(self.size) + \"kDa\\n\" + self.sequence)\n",
    "\n",
    "    def fasta_out(self):\n",
    "        with open(f\"{self.name}.fa\", \"w\") as f:\n",
    "            f.write(\">\" + self.name + \"_\" + self.organism + \"_\" + self.type + \"_\" + str(self.size) + \"kDa\\n\" + self.sequence)"
   ]
  },
  {
   "cell_type": "markdown",
   "id": "935be508-378b-44de-81f7-95a75f420e60",
   "metadata": {},
   "source": [
    "# D. Test the modfied fasta_out function on the following instance of protein:\n",
    "\n",
    "## The fasta file should be named NLS.fa and the contents should be:\n",
    "## >NLS_Human_protein_38\n",
    "## CGGPKKKRLVG"
   ]
  },
  {
   "cell_type": "code",
   "execution_count": 43,
   "id": "cb5aa932-23b1-4b05-bf94-d9a14a0abcab",
   "metadata": {},
   "outputs": [
    {
     "name": "stdout",
     "output_type": "stream",
     "text": [
      ">NLS_Human_protein_38kDa\n",
      "CGGPKKKRLVG\n"
     ]
    }
   ],
   "source": [
    "nls_peptide = protein(name = 'NLS', sequence= 'CGGPKKKRLVG', \n",
    "                      organism = 'Human', type = 'protein', size = '38')\n",
    "nls_peptide.fasta_out()\n",
    "\n",
    "\n",
    "with open(\"NLS.fa\", \"r\") as f:\n",
    "    print(f.read())"
   ]
  },
  {
   "cell_type": "markdown",
   "id": "77e6259b-1f8e-4810-95b4-6536fb3af9e0",
   "metadata": {},
   "source": [
    "# Questions (write answers here, 1-2 sentences per question).\n",
    "## 1. Why won't rewriting the fasta_out function for protein affect other child classes that inherit from seq?\n",
    "the child class of the main class operates individualy thet do not effact each other as long as defined so that fasta_out also do not effact other child classes \n",
    "\n",
    "## 2. If we made a child class of protein, which version of the fasta_out method would the new child class have (protein or seq's version)?\n",
    "new child class will have seqs class fasta_out because this works as hierarchy child to parent. protein class is also a child class so new child class will have seqs fasta_out\n"
   ]
  },
  {
   "cell_type": "markdown",
   "id": "dec8093b-43f7-4e8e-98f2-ac452ad0a756",
   "metadata": {},
   "source": [
    "# E. Using super(), make a child class of seq called nucleotide\n",
    "## Make a new method called gc_content that calculates the percent of letters that are G or C and then prints the gc content percentage\n",
    "\n",
    "## for the gc_content method, there are multiple ways to do it, but you may find this page helpful https://www.geeksforgeeks.org/python-count-occurrences-of-a-character-in-string/ "
   ]
  },
  {
   "cell_type": "code",
   "execution_count": 44,
   "id": "dd5a78f5-a7e8-4cf9-9076-f7ee5b66b545",
   "metadata": {},
   "outputs": [],
   "source": [
    "# Write the new nucleotide class here\n",
    "\n",
    "class nucleotide(seq):\n",
    "    def __init__(self, name, organism, sequence, type):\n",
    "        super().__init__(name, organism, sequence, type)\n",
    "\n",
    "    def gc_content(self):\n",
    "        g_count = self.sequence.count('G')\n",
    "        c_count = self.sequence.count('C')\n",
    "        total_count = len(self.sequence)\n",
    "        gc_percentage = (g_count + c_count) / total_count * 100\n",
    "        print(f\"GC content: {gc_percentage:.2f}%\")"
   ]
  },
  {
   "cell_type": "markdown",
   "id": "acce4621-75c5-414f-b435-8debf2f4dabb",
   "metadata": {},
   "source": [
    "# F. Test the gc_content method on the following instance of nucleotide. You should get 50.0\n",
    "# Also test the info method- how do these results differ from the modified info method for the protein subclass?"
   ]
  },
  {
   "cell_type": "code",
   "execution_count": 45,
   "id": "87a5f854-6746-4f45-ba10-c4f712aeb78d",
   "metadata": {},
   "outputs": [
    {
     "name": "stdout",
     "output_type": "stream",
     "text": [
      "GC content: 50.00%\n",
      "Name: test_seq\n",
      "Type: DNA\n",
      "Organism: Human\n",
      "Sequence: ATCTCGGTCT\n"
     ]
    }
   ],
   "source": [
    "nucleotide_test_GC = nucleotide(name = 'test_seq', sequence= 'ATCTCGGTCT', \n",
    "                      organism = 'Human', type = 'DNA')\n",
    "nucleotide_test_GC.gc_content() \n",
    "nucleotide_test_GC.info()"
   ]
  },
  {
   "cell_type": "markdown",
   "id": "c0348be9-5abc-460d-a27f-11c339d0b335",
   "metadata": {},
   "source": [
    "# G. Using super(),make \"Grandchild classes\" DNA and RNA, which will be child classes of nucleotide. So in this analogy they would be like \"grandchildren\" of sequence class. Look at the homework instructions pdf for a schematic. "
   ]
  },
  {
   "cell_type": "raw",
   "id": "5ecdfae4",
   "metadata": {},
   "source": [
    "## Question: before you make the classes, think: which methods from sequence and nucleotide will the new child classes DNA and RNA inherit? \n",
    "### Write the answer here: \n",
    "from the main seq class info,ien and fasta.out and from nucleotide gc_content will be inharitated in the new classes "
   ]
  },
  {
   "cell_type": "markdown",
   "id": "d9293bbc-8cf5-415d-9dc4-44baea3e6e2c",
   "metadata": {},
   "source": [
    "## G.1 For the DNA class, add a method called transcribe to transcribe the DNA to RNA and print the transcribed sequence (aka replace the Ts in the DNA sequence with Us)"
   ]
  },
  {
   "cell_type": "code",
   "execution_count": 46,
   "id": "36b67dd9-5907-4833-bea2-8b5b01336595",
   "metadata": {},
   "outputs": [],
   "source": [
    "# Write the DNA class here\n",
    "\n",
    "    # For the transcribe method\n",
    "    # This site may be helpful https://www.geeksforgeeks.org/python-string-replace/\n",
    "class DNA(nucleotide):\n",
    "    def __init__(self, name, organism, sequence, type):\n",
    "        super().__init__(name, organism, sequence, type)\n",
    "\n",
    "    def transcribe(self):\n",
    "        rna_sequence = self.sequence.replace('T', 'U')\n",
    "        print(f\"Transcribed RNA sequence: {rna_sequence}\")\n",
    "\n"
   ]
  },
  {
   "cell_type": "markdown",
   "id": "dc6b34bd-4327-437b-91a7-5ef0d7217b61",
   "metadata": {},
   "source": [
    "## G.2 Test the DNA method transcribe, and the other methods info and gc_content on the following instance of DNA:"
   ]
  },
  {
   "cell_type": "code",
   "execution_count": 47,
   "id": "0053dc2c-c092-4134-996e-31bbadbb382c",
   "metadata": {},
   "outputs": [
    {
     "name": "stdout",
     "output_type": "stream",
     "text": [
      "Name: test_seq_H\n",
      "Type: DNA\n",
      "Organism: Human\n",
      "Sequence: ATCTCGGTCT\n",
      "GC content: 50.00%\n",
      "Transcribed RNA sequence: AUCUCGGUCU\n"
     ]
    }
   ],
   "source": [
    "DNA_test_H = DNA(name = 'test_seq_H', sequence= 'ATCTCGGTCT', \n",
    "                      organism = 'Human', type = 'DNA')\n",
    "DNA_test_H.info()\n",
    "DNA_test_H.gc_content()\n",
    "DNA_test_H.transcribe()"
   ]
  },
  {
   "cell_type": "markdown",
   "id": "ba6c55a6-f9a7-4834-9fe0-0c130f6c26fd",
   "metadata": {},
   "source": [
    "## G.3 For the RNA class, add a method called start that will print the index of the start codon (AUG) in a RNA sequence "
   ]
  },
  {
   "cell_type": "code",
   "execution_count": 48,
   "id": "39afc11f-1ce0-4d65-97a5-ab7da1b10ac0",
   "metadata": {},
   "outputs": [],
   "source": [
    "# Write the RNA class here\n",
    "\n",
    "    # For the start method\n",
    "    # This site may be https://www.geeksforgeeks.org/python-string-find/\n",
    "class RNA(nucleotide):\n",
    "    def __init__(self, name, organism, sequence, type):\n",
    "        super().__init__(name, organism, sequence, type)\n",
    "\n",
    "    def start(self):\n",
    "        start_codon_index = self.sequence.find('AUG')\n",
    "        if start_codon_index != -1:\n",
    "            print(f\"Start codon 'AUG' found at index {start_codon_index}\")\n",
    "        else:\n",
    "            print(\"Start codon 'AUG' not found in the sequence.\")\n"
   ]
  },
  {
   "cell_type": "markdown",
   "id": "8d688da2-c345-4890-97f4-e1cc54c52d53",
   "metadata": {},
   "source": [
    "## G.4 Test the method start and gc_content on the following instance of RNA:\n",
    "### For the results from start, you should get 3, and for gc_content you should get 53.57...."
   ]
  },
  {
   "cell_type": "code",
   "execution_count": 49,
   "id": "7f714dfe-1a54-47b2-9afa-2bc630e9e6f6",
   "metadata": {},
   "outputs": [
    {
     "name": "stdout",
     "output_type": "stream",
     "text": [
      "Start codon 'AUG' found at index 3\n",
      "GC content: 53.57%\n"
     ]
    }
   ],
   "source": [
    "RNA_test_H = RNA(name = 'test_seq_H', sequence= 'CCGAUGCGCGCAGCUACGUAGCAAAAAA', \n",
    "                      organism = 'Human', type = 'RNA')\n",
    "RNA_test_H.start()  \n",
    "RNA_test_H.gc_content()"
   ]
  },
  {
   "cell_type": "code",
   "execution_count": 50,
   "id": "edc893fb",
   "metadata": {},
   "outputs": [],
   "source": [
    "class protein(seq):\n",
    "    def __init__(self, name, organism, sequence, type, size):\n",
    "        super().__init__(name, organism, sequence, type)\n",
    "        self.size = size\n",
    "\n",
    "    def fasta_out(self):\n",
    "        with open(f\"{self.name}.fa\", \"w\") as f:\n",
    "            f.write(\">\" + self.name + \"_\" + self.organism + \"_\" + self.type + \"_\" + str(self.size) + \"kDa\\n\" + self.sequence)\n",
    "\n",
    "    def mol_weight(self):\n",
    "        mol_weight = 0\n",
    "        for aa in self.sequence:\n",
    "            mol_weight += aa_mol_weights.get(aa, 0)\n",
    "        return mol_weight"
   ]
  },
  {
   "cell_type": "code",
   "execution_count": 51,
   "id": "848a1050",
   "metadata": {},
   "outputs": [
    {
     "name": "stdout",
     "output_type": "stream",
     "text": [
      "Molecular weight of Protein1: 1500.71\n"
     ]
    }
   ],
   "source": [
    "my_protein = protein(name=\"Protein1\", organism=\"Human\", sequence=\"MVLSPADKTNVK\", type=\"protein\", size=12)\n",
    "print(f\"Molecular weight of {my_protein.name}: {my_protein.mol_weight()}\")"
   ]
  },
  {
   "cell_type": "code",
   "execution_count": 52,
   "id": "13fe7a66",
   "metadata": {},
   "outputs": [
    {
     "ename": "SyntaxError",
     "evalue": "invalid syntax (825934081.py, line 1)",
     "output_type": "error",
     "traceback": [
      "\u001b[1;36m  Cell \u001b[1;32mIn[52], line 1\u001b[1;36m\u001b[0m\n\u001b[1;33m    To the DNA class, add two methods:\u001b[0m\n\u001b[1;37m       ^\u001b[0m\n\u001b[1;31mSyntaxError\u001b[0m\u001b[1;31m:\u001b[0m invalid syntax\n"
     ]
    }
   ],
   "source": [
    "To the DNA class, add two methods:\n",
    "a. a method called six_frames that returns all 6 coding frames of the sequence (3\n",
    "frames on the forward strand, 3 frames on the reverse complement strand)\n",
    "b. a method called reverse_complement that returns the reverse complement of the\n",
    "sequence"
   ]
  },
  {
   "cell_type": "code",
   "execution_count": 59,
   "id": "8e28efeb",
   "metadata": {},
   "outputs": [],
   "source": [
    "class DNA(nucleotide):\n",
    "    def __init__(self, name, organism, sequence, type):\n",
    "        super().__init__(name, organism, sequence, type)\n",
    "\n",
    "    def transcribe(self):\n",
    "        rna_sequence = self.sequence.replace('T', 'U')\n",
    "        return rna_sequence\n",
    "        \n",
    "\n",
    "    def reverse_complement(self):\n",
    "        complement = {'A': 'T', 'C': 'G', 'G': 'C', 'T': 'A'}\n",
    "        rev_comp = ''.join(complement.get(base, base) for base in self.sequence[::-1])\n",
    "        return rev_comp\n",
    "\n",
    "    def six_frames(self):\n",
    "        frames = []\n",
    "        rev_comp_seq = self.reverse_complement()\n",
    "\n",
    "        for i in range(3):\n",
    "            frames.append(self.sequence[i:])\n",
    "            frames.append(rev_comp_seq[i:])\n",
    "\n",
    "        return frames"
   ]
  },
  {
   "cell_type": "code",
   "execution_count": 54,
   "id": "a4bca396",
   "metadata": {},
   "outputs": [
    {
     "ename": "SyntaxError",
     "evalue": "invalid character '‘' (U+2018) (3982559038.py, line 4)",
     "output_type": "error",
     "traceback": [
      "\u001b[1;36m  Cell \u001b[1;32mIn[54], line 4\u001b[1;36m\u001b[0m\n\u001b[1;33m    AUGGCGGUU it would make a list of ‘AUG’, ‘GCG’, ‘GUU’)\u001b[0m\n\u001b[1;37m                                      ^\u001b[0m\n\u001b[1;31mSyntaxError\u001b[0m\u001b[1;31m:\u001b[0m invalid character '‘' (U+2018)\n"
     ]
    }
   ],
   "source": [
    "To the RNA class, add a method called translate that:\n",
    "a. First, finds the start codon (AUG)\n",
    "b. Then, starting with AUG, breaks the sequence into 3 letter codons (ex: for\n",
    "AUGGCGGUU it would make a list of ‘AUG’, ‘GCG’, ‘GUU’)\n",
    "c. Then translates those codons to amino acids (hint: for a ready-made python\n",
    "dictionary of the standard codon table, use the variable standard_code in the\n",
    "“helpful variables” file)\n",
    "d. Returns the protein sequence of the amino acids"
   ]
  },
  {
   "cell_type": "code",
   "execution_count": 58,
   "id": "b2c22a57",
   "metadata": {},
   "outputs": [],
   "source": [
    "class RNA(nucleotide):\n",
    "    def __init__(self, name, organism, sequence, type):\n",
    "        super().__init__(name, organism, sequence, type)\n",
    "\n",
    "    def start(self):\n",
    "        start_codon_index = self.sequence.find('AUG')\n",
    "        if start_codon_index != -1:\n",
    "            print(f\"Start codon 'AUG' found at index {start_codon_index}\")\n",
    "        else:\n",
    "            print(\"Start codon 'AUG' not found in the sequence.\")\n",
    "\n",
    "    def translate(self):\n",
    "        start_codon_index = self.sequence.find('AUG')\n",
    "        if start_codon_index == -1:\n",
    "            print(\"Start codon 'AUG' not found in the sequence.\")\n",
    "            return None\n",
    "\n",
    "        protein_sequence = ''\n",
    "        codons = [self.sequence[start_codon_index+i:start_codon_index+i+3] for i in range(0, len(self.sequence)-start_codon_index, 3)]\n",
    "\n",
    "        for codon in codons:\n",
    "            if len(codon) == 3:\n",
    "                amino_acid = standard_code.get(codon, '_')\n",
    "                if amino_acid == '_':\n",
    "                    break\n",
    "                protein_sequence += amino_acid\n",
    "\n",
    "        return protein_sequence\n"
   ]
  },
  {
   "cell_type": "code",
   "execution_count": 60,
   "id": "b45c72cf",
   "metadata": {},
   "outputs": [
    {
     "name": "stdout",
     "output_type": "stream",
     "text": [
      "Six Frames:\n",
      "CGCATGTTACGTCCTGTAGAAACCCCAACCCGTGAAATCAAAAAA\n",
      "TTTTTTGATTTCACGGGTTGGGGTTTCTACAGGACGTAACATGCG\n",
      "GCATGTTACGTCCTGTAGAAACCCCAACCCGTGAAATCAAAAAA\n",
      "TTTTTGATTTCACGGGTTGGGGTTTCTACAGGACGTAACATGCG\n",
      "CATGTTACGTCCTGTAGAAACCCCAACCCGTGAAATCAAAAAA\n",
      "TTTTGATTTCACGGGTTGGGGTTTCTACAGGACGTAACATGCG\n",
      "Reverse Complement:\n",
      "TTTTTTGATTTCACGGGTTGGGGTTTCTACAGGACGTAACATGCG\n",
      "Molecular Weight of uidA_protein: 1932.2400000000002\n"
     ]
    }
   ],
   "source": [
    "uidA = DNA(name='uidA', organism='bacteria', sequence='CGCATGTTACGTCCTGTAGAAACCCCAACCCGTGAAATCAAAAAA', type='DNA')\n",
    "uidA.fasta_out()\n",
    "\n",
    "\n",
    "uidA_frames = uidA.six_frames()\n",
    "rev_comp_uidA = uidA.reverse_complement()\n",
    "print(\"Six Frames:\")\n",
    "for frame in uidA_frames:\n",
    "    print(frame)\n",
    "print(\"Reverse Complement:\")\n",
    "print(rev_comp_uidA)\n",
    "\n",
    "\n",
    "uidA_RNA_sequence = uidA.transcribe()\n",
    "\n",
    "uidA_RNA.fasta_out()\n",
    "\n",
    "uidA_protein_sequence = uidA_RNA.translate()\n",
    "\n",
    "\n",
    "uidA_protein = protein(name='uidA_protein', organism='bacteria', sequence=uidA_protein_sequence, type='protein', size=100)  \n",
    "uidA_protein.fasta_out()\n",
    "\n",
    "\n",
    "mol_weight = uidA_protein.mol_weight()\n",
    "print(\"Molecular Weight of uidA_protein:\", mol_weight)\n"
   ]
  },
  {
   "cell_type": "code",
   "execution_count": null,
   "id": "1139260f",
   "metadata": {},
   "outputs": [],
   "source": []
  }
 ],
 "metadata": {
  "kernelspec": {
   "display_name": "Python 3 (ipykernel)",
   "language": "python",
   "name": "python3"
  },
  "language_info": {
   "codemirror_mode": {
    "name": "ipython",
    "version": 3
   },
   "file_extension": ".py",
   "mimetype": "text/x-python",
   "name": "python",
   "nbconvert_exporter": "python",
   "pygments_lexer": "ipython3",
   "version": "3.11.5"
  }
 },
 "nbformat": 4,
 "nbformat_minor": 5
}

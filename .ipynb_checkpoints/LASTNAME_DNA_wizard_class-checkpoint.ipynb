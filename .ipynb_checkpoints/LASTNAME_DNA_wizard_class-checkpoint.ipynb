{
 "cells": [
  {
   "cell_type": "markdown",
   "id": "c33f7d61-3af1-45c4-b733-ab23210f5138",
   "metadata": {},
   "source": [
    "# A. Make a class called seq \n",
    "\n",
    "## This class should accept the following attributes:\n",
    "### name, organism, sequence, and type. When making an isntance of seq, the input for name will be a string (e.g. 'RAS_G12D') the input for organism will be a string (e.x. 'human'), the input for sequence will be a DNA, RNA, or protein sequence (e.g. 'ATCGAAATC') and the type will be either 'DNA', 'RNA', or 'Protein'\n",
    "\n",
    "## This class should have three methods: \n",
    "### 1. info -this should print the name, type, organism, and sequence of the instance\n",
    "### 2. length -this should count the length of the sequence string\n",
    "### 3. fasta_out -this should write the name, organism, type, and sequence as a fasta file. "
   ]
  },
  {
   "cell_type": "code",
   "execution_count": 7,
   "id": "2be7a8b1",
   "metadata": {},
   "outputs": [],
   "source": [
    "class seq:\n",
    "    def __init__(self, name, organism, sequence, type):\n",
    "        self.name = name\n",
    "        self.organism = organism\n",
    "        self.sequence = sequence\n",
    "        self.type = type\n",
    "\n",
    "    def info(self):\n",
    "        print(f\"Name: {self.name}\")\n",
    "        print(f\"Type: {self.type}\")\n",
    "        print(f\"Organism: {self.organism}\")\n",
    "        print(f\"Sequence: {self.sequence}\")\n",
    "\n",
    "    def length(self):\n",
    "        return len(self.sequence)\n",
    "\n",
    "    def fasta_out(self):\n",
    "        with open(f\"{self.name}.fa\", \"w\") as f:\n",
    "            f.write(\">\" + self.name + \"_\" + self.organism + \"_\" + self.type + \"\\n\" + self.sequence)"
   ]
  },
  {
   "cell_type": "code",
   "execution_count": 8,
   "id": "7f235639-4e6e-45ac-83bd-c9d22dd38de0",
   "metadata": {},
   "outputs": [],
   "source": [
    "# call the class seq\n",
    "\n",
    "    # Call instance attributes\n",
    "\n",
    "     \n",
    "    # define the info function \n",
    "\n",
    "    \n",
    "    # define the length function\n",
    "\n",
    "    \n",
    "    #define the fasta_out function. \n",
    "\n",
    "    \n",
    "    # write to a file using the sequence name as part of the file name\n",
    "    # I have written most of the code for the fasta_out function,\n",
    "    # but you need to add something. What is missing?\n",
    "    # this url may be helpful https://www.w3schools.com/python/python_file_write.asp \n",
    "    \n",
    "my_seq = seq(\"RAS_G12D\", \"human\", \"ATCGAAATC\", \"DNA\")\n",
    "my_seq.fasta_out()\n",
    "       "
   ]
  },
  {
   "cell_type": "code",
   "execution_count": null,
   "id": "eb709e9b",
   "metadata": {},
   "outputs": [],
   "source": []
  },
  {
   "cell_type": "markdown",
   "id": "587bd257-f738-49b0-a2d6-0d80cbe50c16",
   "metadata": {},
   "source": [
    "# B. Test your seq class code using the following instance of seq. \n",
    "## The info function should print \"test_DNA, Human, DNA, AGGCTAT\"\n",
    "## the length function should print \"7\". \n",
    "## Go open the fasta file that is made by fasta out. It should be named test_DNA.fa and the contents should look like this:\n",
    "## >test_DNA_Human_DNA\n",
    "## AGGCTAT"
   ]
  },
  {
   "cell_type": "code",
   "execution_count": 20,
   "id": "93b3d472-6f84-418d-9691-22e17b88efb2",
   "metadata": {},
   "outputs": [
    {
     "name": "stdout",
     "output_type": "stream",
     "text": [
      "Name: test_DNA\n",
      "Organism: Human\n",
      "Sequence: AGGCTAT\n",
      "Type: DNA\n",
      ">test_DNA_Human_DNA\n",
      "AGGCTAT\n"
     ]
    }
   ],
   "source": [
    "short_seq_test = seq(name = \"test_DNA\", organism = 'Human',\n",
    "                                  sequence = 'AGGCTAT', type = 'DNA')\n",
    "short_seq_test.info()\n",
    "short_seq_test.length()\n",
    "short_seq_test.fasta_out()\n",
    "with open(\"test_DNA.fa\", \"r\") as f:\n",
    "    print(f.read())"
   ]
  },
  {
   "cell_type": "markdown",
   "id": "5bda4d8b-2034-4877-8e24-c92bcbc9e06c",
   "metadata": {},
   "source": [
    "# C. Using super(), make a new child class of seq called protein\n",
    "## This should have a new attribute called size (For instances of protein, size values will be in kDa, like '52')\n",
    "## Overwrite the parent class seq function fasta_out to include the protein size in the first line of the fasta file\n"
   ]
  },
  {
   "cell_type": "code",
   "execution_count": 11,
   "id": "7034e712-0883-4520-b73e-cbd940e7c5b1",
   "metadata": {},
   "outputs": [],
   "source": [
    "# Write the new protein child class here\n",
    "class protein(seq):\n",
    "    def __init__(self, name, organism, sequence, type, size):\n",
    "        super().__init__(name, organism, sequence, type)\n",
    "        self.size = size\n",
    "\n",
    "    def fasta_out(self):\n",
    "        with open(f\"{self.name}.fa\", \"w\") as f:\n",
    "            f.write(\">\" + self.name + \"_\" + self.organism + \"_\" + self.type + \"_\" + str(self.size) + \"kDa\\n\" + self.sequence)"
   ]
  },
  {
   "cell_type": "markdown",
   "id": "935be508-378b-44de-81f7-95a75f420e60",
   "metadata": {},
   "source": [
    "# D. Test the modfied fasta_out function on the following instance of protein:\n",
    "\n",
    "## The fasta file should be named NLS.fa and the contents should be:\n",
    "## >NLS_Human_protein_38\n",
    "## CGGPKKKRLVG"
   ]
  },
  {
   "cell_type": "code",
   "execution_count": 25,
   "id": "cb5aa932-23b1-4b05-bf94-d9a14a0abcab",
   "metadata": {},
   "outputs": [
    {
     "name": "stdout",
     "output_type": "stream",
     "text": [
      ">NLS_Human_protein_38kDa\n",
      "CGGPKKKRLVG\n"
     ]
    }
   ],
   "source": [
    "nls_peptide = protein(name = 'NLS', sequence= 'CGGPKKKRLVG', \n",
    "                      organism = 'Human', type = 'protein', size = '38')\n",
    "nls_peptide.fasta_out()\n",
    "\n",
    "\n",
    "with open(\"NLS.fa\", \"r\") as f:\n",
    "    print(f.read())"
   ]
  },
  {
   "cell_type": "markdown",
   "id": "77e6259b-1f8e-4810-95b4-6536fb3af9e0",
   "metadata": {},
   "source": [
    "# Questions (write answers here, 1-2 sentences per question).\n",
    "## 1. Why won't rewriting the fasta_out function for protein affect other child classes that inherit from seq? \n",
    "The reason is that when a method is overridden in a child class, it only affects instances of that child class and any potential grandchild classes that inherit from it. Other child classes that inherit directly from the parent class (seq in this case) are not affected by the method overriding in the protein class.\n",
    "\n",
    "In object-oriented programming, method overriding is a concept where a subclass provides its own implementation of a method that is already defined in its parent class. This overridden method in the subclass takes precedence over the method in the parent class when called on instances of the subclass or its derived classes.\n",
    "\n",
    "However, the overridden method in the protein class does not affect the behavior of the fasta_out method for other child classes of seq, such as nucleotide, DNA, or RNA. These other child classes will still use the original fasta_out method defined in the seq class unless they explicitly override it themselves.\n",
    "## 2. If we made a child class of protein, which version of the fasta_out method would the new child class have (protein or seq's version)?\n",
    "If we create a new child class that inherits from the protein class, the new child class will inherit the overridden fasta_out method from the protein class, not the original fasta_out method from the seq class.\n",
    "\n",
    "This is because the method resolution order (MRO) in Python follows the inheritance hierarchy. When a method is called on an instance of a class, Python searches for the method in the class itself, then in its parent class, and so on, up the inheritance chain until the method is found or the end of the chain is reached.\n",
    "\n",
    "Since the protein class has overridden the fasta_out method, any child class that inherits from protein will use the overridden version of fasta_out from the protein class, unless that child class itself overrides the method again.\n"
   ]
  },
  {
   "cell_type": "markdown",
   "id": "dec8093b-43f7-4e8e-98f2-ac452ad0a756",
   "metadata": {},
   "source": [
    "# E. Using super(), make a child class of seq called nucleotide\n",
    "## Make a new method called gc_content that calculates the percent of letters that are G or C and then prints the gc content percentage\n",
    "\n",
    "## for the gc_content method, there are multiple ways to do it, but you may find this page helpful https://www.geeksforgeeks.org/python-count-occurrences-of-a-character-in-string/ "
   ]
  },
  {
   "cell_type": "code",
   "execution_count": 13,
   "id": "dd5a78f5-a7e8-4cf9-9076-f7ee5b66b545",
   "metadata": {},
   "outputs": [],
   "source": [
    "# Write the new nucleotide class here\n",
    "\n",
    "class nucleotide(seq):\n",
    "    def __init__(self, name, organism, sequence, type):\n",
    "        super().__init__(name, organism, sequence, type)\n",
    "\n",
    "    def gc_content(self):\n",
    "        g_count = self.sequence.count('G')\n",
    "        c_count = self.sequence.count('C')\n",
    "        total_count = len(self.sequence)\n",
    "        gc_percentage = (g_count + c_count) / total_count * 100\n",
    "        print(f\"GC content: {gc_percentage:.2f}%\")"
   ]
  },
  {
   "cell_type": "markdown",
   "id": "acce4621-75c5-414f-b435-8debf2f4dabb",
   "metadata": {},
   "source": [
    "# F. Test the gc_content method on the following instance of nucleotide. You should get 50.0\n",
    "# Also test the info method- how do these results differ from the modified info method for the protein subclass?"
   ]
  },
  {
   "cell_type": "code",
   "execution_count": 14,
   "id": "87a5f854-6746-4f45-ba10-c4f712aeb78d",
   "metadata": {},
   "outputs": [],
   "source": [
    "nucleotide_test_GC = nucleotide(name = 'test_seq', sequence= 'ATCTCGGTCT', \n",
    "                      organism = 'Human', type = 'DNA')"
   ]
  },
  {
   "cell_type": "markdown",
   "id": "c0348be9-5abc-460d-a27f-11c339d0b335",
   "metadata": {},
   "source": [
    "# G. Using super(),make \"Grandchild classes\" DNA and RNA, which will be child classes of nucleotide. So in this analogy they would be like \"grandchildren\" of sequence class. Look at the homework instructions pdf for a schematic. "
   ]
  },
  {
   "cell_type": "raw",
   "id": "8ca58c14",
   "metadata": {},
   "source": [
    "## Question: before you make the classes, think: which methods from sequence and nucleotide will the new child classes DNA and RNA inherit? \n",
    "### Write the answer here: \n",
    "from the main seq class info,ien and fasta.out and from nucleotide gc_content will be inharitated in the new classes "
   ]
  },
  {
   "cell_type": "markdown",
   "id": "d9293bbc-8cf5-415d-9dc4-44baea3e6e2c",
   "metadata": {},
   "source": [
    "## G.1 For the DNA class, add a method called transcribe to transcribe the DNA to RNA and print the transcribed sequence (aka replace the Ts in the DNA sequence with Us)"
   ]
  },
  {
   "cell_type": "code",
   "execution_count": 15,
   "id": "36b67dd9-5907-4833-bea2-8b5b01336595",
   "metadata": {},
   "outputs": [],
   "source": [
    "# Write the DNA class here\n",
    "\n",
    "    # For the transcribe method\n",
    "    # This site may be helpful https://www.geeksforgeeks.org/python-string-replace/\n",
    "class DNA(nucleotide):\n",
    "    def __init__(self, name, organism, sequence, type):\n",
    "        super().__init__(name, organism, sequence, type)\n",
    "\n",
    "    def transcribe(self):\n",
    "        rna_sequence = self.sequence.replace('T', 'U')\n",
    "        print(f\"Transcribed RNA sequence: {rna_sequence}\")\n",
    "\n"
   ]
  },
  {
   "cell_type": "markdown",
   "id": "dc6b34bd-4327-437b-91a7-5ef0d7217b61",
   "metadata": {},
   "source": [
    "## G.2 Test the DNA method transcribe, and the other methods info and gc_content on the following instance of DNA:"
   ]
  },
  {
   "cell_type": "code",
   "execution_count": 18,
   "id": "0053dc2c-c092-4134-996e-31bbadbb382c",
   "metadata": {},
   "outputs": [
    {
     "name": "stdout",
     "output_type": "stream",
     "text": [
      "Name: test_seq_H\n",
      "Organism: Human\n",
      "Sequence: ATCTCGGTCT\n",
      "Type: DNA\n",
      "GC content: 50.00%\n",
      "Transcribed RNA sequence: AUCUCGGUCU\n"
     ]
    }
   ],
   "source": [
    "DNA_test_H = DNA(name = 'test_seq_H', sequence= 'ATCTCGGTCT', \n",
    "                      organism = 'Human', type = 'DNA')\n",
    "DNA_test_H.info()\n",
    "DNA_test_H.gc_content()\n",
    "DNA_test_H.transcribe()"
   ]
  },
  {
   "cell_type": "markdown",
   "id": "ba6c55a6-f9a7-4834-9fe0-0c130f6c26fd",
   "metadata": {},
   "source": [
    "## G.3 For the RNA class, add a method called start that will print the index of the start codon (AUG) in a RNA sequence "
   ]
  },
  {
   "cell_type": "code",
   "execution_count": 3,
   "id": "39afc11f-1ce0-4d65-97a5-ab7da1b10ac0",
   "metadata": {},
   "outputs": [],
   "source": [
    "# Write the RNA class here\n",
    "\n",
    "    # For the start method\n",
    "    # This site may be https://www.geeksforgeeks.org/python-string-find/\n",
    "class RNA(nucleotide):\n",
    "    def __init__(self, name, organism, sequence, type):\n",
    "        super().__init__(name, organism, sequence, type)\n",
    "\n",
    "    def start(self):\n",
    "        start_codon_index = self.sequence.find('AUG')\n",
    "        if start_codon_index != -1:\n",
    "            print(f\"Start codon 'AUG' found at index {start_codon_index}\")\n",
    "        else:\n",
    "            print(\"Start codon 'AUG' not found in the sequence.\")\n"
   ]
  },
  {
   "cell_type": "markdown",
   "id": "8d688da2-c345-4890-97f4-e1cc54c52d53",
   "metadata": {},
   "source": [
    "## G.4 Test the method start and gc_content on the following instance of RNA:\n",
    "### For the results from start, you should get 3, and for gc_content you should get 53.57...."
   ]
  },
  {
   "cell_type": "code",
   "execution_count": 17,
   "id": "7f714dfe-1a54-47b2-9afa-2bc630e9e6f6",
   "metadata": {},
   "outputs": [
    {
     "name": "stdout",
     "output_type": "stream",
     "text": [
      "Start codon 'AUG' found at index 3\n",
      "GC content: 53.57%\n"
     ]
    }
   ],
   "source": [
    "RNA_test_H = RNA(name = 'test_seq_H', sequence= 'CCGAUGCGCGCAGCUACGUAGCAAAAAA', \n",
    "                      organism = 'Human', type = 'RNA')\n",
    "RNA_test_H.start()  \n",
    "RNA_test_H.gc_content()"
   ]
  },
  {
   "cell_type": "code",
   "execution_count": null,
   "id": "8a430a27",
   "metadata": {},
   "outputs": [],
   "source": []
  }
 ],
 "metadata": {
  "kernelspec": {
   "display_name": "Python 3 (ipykernel)",
   "language": "python",
   "name": "python3"
  },
  "language_info": {
   "codemirror_mode": {
    "name": "ipython",
    "version": 3
   },
   "file_extension": ".py",
   "mimetype": "text/x-python",
   "name": "python",
   "nbconvert_exporter": "python",
   "pygments_lexer": "ipython3",
   "version": "3.11.5"
  }
 },
 "nbformat": 4,
 "nbformat_minor": 5
}
